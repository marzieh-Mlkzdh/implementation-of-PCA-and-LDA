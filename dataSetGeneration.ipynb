{
 "cells": [
  {
   "cell_type": "code",
   "execution_count": 1,
   "metadata": {},
   "outputs": [],
   "source": [
    "import cv2\n",
    "import pandas as pd\n",
    "import numpy as np\n",
    "import os\n",
    "import glob"
   ]
  },
  {
   "cell_type": "code",
   "execution_count": 2,
   "metadata": {},
   "outputs": [],
   "source": [
    "# Generate Labels dataset\n",
    "names_list=os.listdir(r'C:\\Users\\sepehr\\Faces\\HW03_data\\img_align_celeba_s1')\n",
    "labels=pd.read_csv(r'C:\\Users\\sepehr\\Faces\\HW03_data\\gt.csv')\n",
    "indexNames = labels[ ~labels['im_name'].isin(names_list) ].index\n",
    "labels=labels.drop(indexNames)\n",
    "labels=labels.reset_index()\n",
    "labels=labels.iloc[:,1:3]"
   ]
  },
  {
   "cell_type": "code",
   "execution_count": 3,
   "metadata": {},
   "outputs": [],
   "source": [
    "# Generate images dataset\n",
    "image_list = []\n",
    "for filename in glob.glob(r'C:\\Users\\sepehr\\Faces\\HW03_data\\img_align_celeba_s1\\*.jpg'):\n",
    "    im=cv2.imread(filename,0)\n",
    "    image_list.append(im)\n",
    "img=np.reshape(image_list,[8163,7500])\n",
    "dataset=pd.DataFrame(img)\n"
   ]
  },
  {
   "cell_type": "code",
   "execution_count": 4,
   "metadata": {},
   "outputs": [],
   "source": [
    "# Generate dataset\n",
    "dataset=pd.concat([dataset,labels],axis=1)"
   ]
  },
  {
   "cell_type": "code",
   "execution_count": null,
   "metadata": {},
   "outputs": [],
   "source": []
  }
 ],
 "metadata": {
  "kernelspec": {
   "display_name": "Python 3",
   "language": "python",
   "name": "python3"
  },
  "language_info": {
   "codemirror_mode": {
    "name": "ipython",
    "version": 3
   },
   "file_extension": ".py",
   "mimetype": "text/x-python",
   "name": "python",
   "nbconvert_exporter": "python",
   "pygments_lexer": "ipython3",
   "version": "3.7.7"
  }
 },
 "nbformat": 4,
 "nbformat_minor": 4
}
