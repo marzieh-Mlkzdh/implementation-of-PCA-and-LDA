{
 "cells": [
  {
   "cell_type": "code",
   "execution_count": 2,
   "metadata": {
    "colab": {
     "base_uri": "https://localhost:8080/",
     "height": 34
    },
    "colab_type": "code",
    "executionInfo": {
     "elapsed": 1923,
     "status": "ok",
     "timestamp": 1577192842169,
     "user": {
      "displayName": "Ali Salehi",
      "photoUrl": "https://lh3.googleusercontent.com/a-/AAuE7mBoixN2sMoCbiLgL80hhvutSJsyjVgkc5J5fTf9=s64",
      "userId": "11555770690990423269"
     },
     "user_tz": -210
    },
    "id": "Jsys9apMuPGv",
    "outputId": "92627b1d-288b-435b-def0-993e79658a17"
   },
   "outputs": [
    {
     "name": "stdout",
     "output_type": "stream",
     "text": [
      "Drive already mounted at /content/drive/; to attempt to forcibly remount, call drive.mount(\"/content/drive/\", force_remount=True).\n"
     ]
    }
   ],
   "source": [
    "import cv2\n",
    "import numpy as np\n",
    "import glob\n",
    "import pandas as pd\n",
    "import os\n",
    "from sklearn.model_selection import train_test_split\n",
    "from sklearn.preprocessing import StandardScaler\n",
    "from google.colab import drive\n",
    "\n",
    "drive.mount('/content/drive/')"
   ]
  },
  {
   "cell_type": "code",
   "execution_count": 0,
   "metadata": {
    "colab": {},
    "colab_type": "code",
    "id": "q-Ps6W4rumhi"
   },
   "outputs": [],
   "source": [
    "# Read dataset and spliting x and y\n",
    "dataset=pd.read_csv('/content/drive/My Drive/ML_HW03/dataset.csv')\n",
    "X= dataset.iloc[:, :]\n",
    "X=X.drop(columns=['im_name','Male'])\n",
    "Y=dataset.iloc[:,7500:7502]"
   ]
  },
  {
   "cell_type": "code",
   "execution_count": 0,
   "metadata": {
    "colab": {},
    "colab_type": "code",
    "id": "ewN0GFXpuvC8"
   },
   "outputs": [],
   "source": [
    "# Splite data to train and test and normalization\n",
    "X_train,X_test,Y_train,Y_test= train_test_split(X,Y,test_size=0.3,random_state=10,stratify=Y.iloc[:,1])\n",
    "sc=StandardScaler()\n",
    "X_train_std=sc.fit_transform(X_train)\n",
    "X_test_std=sc.transform(X_test)"
   ]
  },
  {
   "cell_type": "code",
   "execution_count": 19,
   "metadata": {
    "colab": {
     "base_uri": "https://localhost:8080/",
     "height": 51
    },
    "colab_type": "code",
    "executionInfo": {
     "elapsed": 158449,
     "status": "ok",
     "timestamp": 1577194185577,
     "user": {
      "displayName": "Ali Salehi",
      "photoUrl": "https://lh3.googleusercontent.com/a-/AAuE7mBoixN2sMoCbiLgL80hhvutSJsyjVgkc5J5fTf9=s64",
      "userId": "11555770690990423269"
     },
     "user_tz": -210
    },
    "id": "E9onvTIBuzN8",
    "outputId": "f7904f65-de1f-4d28-829e-4b54e9f4c1cc"
   },
   "outputs": [
    {
     "name": "stderr",
     "output_type": "stream",
     "text": [
      "/usr/local/lib/python3.6/dist-packages/sklearn/discriminant_analysis.py:388: UserWarning: Variables are collinear.\n",
      "  warnings.warn(\"Variables are collinear.\")\n"
     ]
    }
   ],
   "source": [
    "from sklearn.discriminant_analysis import LinearDiscriminantAnalysis\n",
    "\n",
    "lda = LinearDiscriminantAnalysis()\n",
    "X_train_lda=lda.fit_transform(X_train_std,Y_train.iloc[:,1])"
   ]
  },
  {
   "cell_type": "code",
   "execution_count": 0,
   "metadata": {
    "colab": {},
    "colab_type": "code",
    "id": "IMXDatlw7ayr"
   },
   "outputs": [],
   "source": [
    "X_test_lda=lda.transform(X_test_std)"
   ]
  },
  {
   "cell_type": "code",
   "execution_count": 21,
   "metadata": {
    "colab": {
     "base_uri": "https://localhost:8080/",
     "height": 136
    },
    "colab_type": "code",
    "executionInfo": {
     "elapsed": 776,
     "status": "ok",
     "timestamp": 1577194199195,
     "user": {
      "displayName": "Ali Salehi",
      "photoUrl": "https://lh3.googleusercontent.com/a-/AAuE7mBoixN2sMoCbiLgL80hhvutSJsyjVgkc5J5fTf9=s64",
      "userId": "11555770690990423269"
     },
     "user_tz": -210
    },
    "id": "eoiHct-Mw3rN",
    "outputId": "a52f0688-8411-4f03-b675-3a97850fc40a"
   },
   "outputs": [
    {
     "name": "stdout",
     "output_type": "stream",
     "text": [
      "[[ 2.54289244]\n",
      " [-3.92757998]\n",
      " [-3.64500597]\n",
      " ...\n",
      " [-3.65177482]\n",
      " [ 5.70430892]\n",
      " [ 4.74529224]]\n"
     ]
    }
   ],
   "source": [
    "print(X_train_lda)"
   ]
  },
  {
   "cell_type": "code",
   "execution_count": 27,
   "metadata": {
    "colab": {
     "base_uri": "https://localhost:8080/",
     "height": 279
    },
    "colab_type": "code",
    "executionInfo": {
     "elapsed": 788,
     "status": "ok",
     "timestamp": 1577194447770,
     "user": {
      "displayName": "Ali Salehi",
      "photoUrl": "https://lh3.googleusercontent.com/a-/AAuE7mBoixN2sMoCbiLgL80hhvutSJsyjVgkc5J5fTf9=s64",
      "userId": "11555770690990423269"
     },
     "user_tz": -210
    },
    "id": "VqBXAm780Bpi",
    "outputId": "11d03698-9225-4da3-b368-8e168df6cc27"
   },
   "outputs": [
    {
     "data": {
      "image/png": "[encoded data removed]",
      "text/plain": [
       "<Figure size 432x288 with 1 Axes>"
      ]
     },
     "metadata": {
      "tags": []
     },
     "output_type": "display_data"
    }
   ],
   "source": [
    "import matplotlib.pyplot as plt\n",
    "colors = ['r', 'b', 'g']\n",
    "markers = ['s', 'x', 'o']\n",
    "for l, c, m in zip(np.unique(Y_train.iloc[:,1]), colors, markers):\n",
    "  plt.scatter(X_train_lda[Y_train.iloc[:,1]==l],X_train_lda[Y_train.iloc[:,1]==l],c=c, label=l, marker=m)\n",
    "plt.xlabel('LD 1')\n",
    "plt.ylabel('LD 1')\n",
    "plt.legend(loc='lower left')\n",
    "plt.show()"
   ]
  },
  {
   "cell_type": "code",
   "execution_count": 0,
   "metadata": {
    "colab": {},
    "colab_type": "code",
    "id": "1qH_GA-v04ru"
   },
   "outputs": [],
   "source": [
    "from sklearn.neighbors import KNeighborsClassifier\n",
    "from sklearn.metrics import accuracy_score\n",
    "\n",
    "knn_train_acc=[]\n",
    "knn_test_acc=[]\n",
    "# Accuracy for k=1 to 10\n",
    "for k in range(1,11):\n",
    "  knn = KNeighborsClassifier(n_neighbors=k, p=2, metric='minkowski')\n",
    "  knn.fit(X_train_lda, Y_train.iloc[:,1])\n",
    "  # Prediction\n",
    "  Y_pred=knn.predict(X_test_lda)\n",
    "  # Accuracy\n",
    "  knn_train_acc.append(knn.score(X_train_lda,Y_train.iloc[:,1]))\n",
    "  knn_test_acc.append(accuracy_score(Y_test.iloc[:,1],Y_pred))\n",
    "#print(knn_score)\n",
    "#print(acc_score)"
   ]
  },
  {
   "cell_type": "code",
   "execution_count": 29,
   "metadata": {
    "colab": {
     "base_uri": "https://localhost:8080/",
     "height": 295
    },
    "colab_type": "code",
    "executionInfo": {
     "elapsed": 1417,
     "status": "ok",
     "timestamp": 1577194456382,
     "user": {
      "displayName": "Ali Salehi",
      "photoUrl": "https://lh3.googleusercontent.com/a-/AAuE7mBoixN2sMoCbiLgL80hhvutSJsyjVgkc5J5fTf9=s64",
      "userId": "11555770690990423269"
     },
     "user_tz": -210
    },
    "id": "rQ1n5rGQ8Ia9",
    "outputId": "d53018ce-5dc0-40a6-dc34-8e43d5b16989"
   },
   "outputs": [
    {
     "data": {
      "image/png": "[encoded data removed]",
      "text/plain": [
       "<Figure size 1008x288 with 2 Axes>"
      ]
     },
     "metadata": {
      "tags": []
     },
     "output_type": "display_data"
    }
   ],
   "source": [
    "# Plotting accuracy For each k=0 to 10\n",
    "x=np.arange(1,11)\n",
    "plt.figure(figsize=(14,4))\n",
    "# Train accuracy\n",
    "plt.subplot(1,2,1)\n",
    "plt.plot(x, knn_train_acc,color='blue')\n",
    "plt.scatter(x, knn_train_acc,color='blue')\n",
    "plt.xlabel('Number of Neighbours')\n",
    "plt.ylabel('Accuracy')\n",
    "plt.title('Train Accuracy for KNN')\n",
    "# Test accuracy\n",
    "plt.subplot(1,2,2)\n",
    "plt.plot(x, knn_test_acc,color='blue')\n",
    "plt.scatter(x, knn_test_acc,color='blue')\n",
    "plt.xlabel('Number of Neighbours')\n",
    "plt.ylabel('Accuracy')\n",
    "plt.title('Test Accuracy for KNN')\n",
    "plt.show()"
   ]
  }
 ],
 "metadata": {
  "colab": {
   "collapsed_sections": [],
   "name": "HW03_Sec01_LDA.ipynb",
   "provenance": []
  },
  "kernelspec": {
   "display_name": "Python 3",
   "language": "python",
   "name": "python3"
  },
  "language_info": {
   "codemirror_mode": {
    "name": "ipython",
    "version": 3
   },
   "file_extension": ".py",
   "mimetype": "text/x-python",
   "name": "python",
   "nbconvert_exporter": "python",
   "pygments_lexer": "ipython3",
   "version": "3.7.7"
  }
 },
 "nbformat": 4,
 "nbformat_minor": 1
}
